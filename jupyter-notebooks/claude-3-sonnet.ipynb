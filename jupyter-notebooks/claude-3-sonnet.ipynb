{
 "cells": [
  {
   "cell_type": "code",
   "execution_count": 1,
   "metadata": {},
   "outputs": [
    {
     "name": "stderr",
     "output_type": "stream",
     "text": [
      "/Users/sofiia.kalinina/private/it-gkb/.venv/lib/python3.9/site-packages/langchain_community/vectorstores/pgvector.py:322: LangChainPendingDeprecationWarning: Please use JSONB instead of JSON for metadata. This change will allow for more efficient querying that involves filtering based on metadata.Please note that filtering operators have been changed when using JSOB metadata to be prefixed with a $ sign to avoid name collisions with columns. If you're using an existing database, you will need to create adb migration for your metadata column to be JSONB and update your queries to use the new operators. \n",
      "  warn_deprecated(\n"
     ]
    }
   ],
   "source": [
    "from langchain.document_loaders import PyPDFLoader\n",
    "from langchain.text_splitter import RecursiveCharacterTextSplitter\n",
    "from langchain.embeddings import BedrockEmbeddings\n",
    "from langchain.vectorstores.pgvector import PGVector\n",
    "from dotenv import load_dotenv\n",
    "import os\n",
    "\n",
    "# Load environment variables from a .env file\n",
    "load_dotenv()\n",
    "\n",
    "# Define the file path for the PDF document\n",
    "file_path = ''\n",
    "\n",
    "# Initialize a loader for PDF documents\n",
    "loader = PyPDFLoader(file_path=file_path)\n",
    "\n",
    "# Initialize a text splitter for dividing text into chunks\n",
    "text_splitter = RecursiveCharacterTextSplitter(chunk_size=1000, chunk_overlap=100)\n",
    "\n",
    "# Load and split the document\n",
    "data = loader.load_and_split(text_splitter=text_splitter)\n",
    "\n",
    "# Define the collection name for storing embeddings\n",
    "COLLECTION_NAME = \"small_chunks\"\n",
    "\n",
    "# Construct the connection string to the PostgreSQL database\n",
    "CONNECTION_STRING = PGVector.connection_string_from_db_params(                                                  \n",
    "    driver=\"psycopg\",\n",
    "    user=os.getenv(\"PGVECTOR_USER\"),\n",
    "    password=os.getenv(\"PGVECTOR_PASSWORD\"),\n",
    "    host=os.getenv(\"PGVECTOR_HOST\"),\n",
    "    port=os.getenv(\"PGVECTOR_PORT\"),\n",
    "    database=os.getenv(\"PGVECTOR_DATABASE\"),\n",
    ")\n",
    "\n",
    "# Initialize the text embedding model\n",
    "embeddings = BedrockEmbeddings(region_name='us-east-1')\n",
    "\n",
    "# Create a vector database store instance and populate it with document data and embeddings\n",
    "db = PGVector.from_documents(\n",
    "                                documents=data,\n",
    "                                embedding=embeddings,\n",
    "                                collection_name=COLLECTION_NAME,\n",
    "                                connection_string=CONNECTION_STRING\n",
    "                            )"
   ]
  },
  {
   "cell_type": "code",
   "execution_count": 2,
   "metadata": {},
   "outputs": [
    {
     "name": "stderr",
     "output_type": "stream",
     "text": [
      "/Users/sofiia.kalinina/private/it-gkb/.venv/lib/python3.9/site-packages/langchain_core/_api/deprecation.py:119: LangChainDeprecationWarning: The class `BedrockChat` was deprecated in LangChain 0.0.34 and will be removed in 0.3. An updated version of the class exists in the langchain-aws package and should be used instead. To use it run `pip install -U langchain-aws` and import as `from langchain_aws import ChatBedrock`.\n",
      "  warn_deprecated(\n",
      "/Users/sofiia.kalinina/private/it-gkb/.venv/lib/python3.9/site-packages/langchain_core/_api/deprecation.py:119: LangChainDeprecationWarning: The method `Chain.run` was deprecated in langchain 0.1.0 and will be removed in 0.3.0. Use invoke instead.\n",
      "  warn_deprecated(\n"
     ]
    },
    {
     "name": "stdout",
     "output_type": "stream",
     "text": [
      "\n",
      "\n",
      "\u001b[1m> Entering new RetrievalQA chain...\u001b[0m\n",
      "\n",
      "\n",
      "\u001b[1m> Entering new StuffDocumentsChain chain...\u001b[0m\n",
      "\n",
      "\n",
      "\u001b[1m> Entering new LLMChain chain...\u001b[0m\n",
      "Prompt after formatting:\n",
      "\u001b[32;1m\u001b[1;3mHuman: The context, which I am going to provide you, is in German, the question is in English. If you don't know the answer, just say that you don't know, don't try to make up an answer. Answer questions based on the context below: nicht ausreichend getestet ist oder die den Freigabeprozess nicht durchlaufen hat. Auch ist es bei \n",
      "Fehlern in den Berechtigungen auf der CI/CD- Umgebung möglich, dass Schadsoftwar e in die Cluster \n",
      "eindringen und dort Daten auslesen, löschen oder verändern kann.  \n",
      "2.5. Unberechtigte Kommunikation  \n",
      "Alle Pods in einem Cluster sind grundsätzlich in der Lage, miteinander, mit den Nodes im eigenen \n",
      "Cluster sowie beliebigen anderen IT -Systemen zu k ommunizieren. Sofern diese Kommunikation nicht \n",
      "eingeschränkt ist, kann dies ausgenutzt werden, um z. B. die Control Plane, andere Pods oder die Nodes anzugreifen.  \n",
      "Auch besteht die Gefahr, dass Pods im Cluster unerwünscht von außen erreichbar sind. So kann ein Angriff gegen Dienste, die eigentlich nur innerhalb des Clusters erreichbar sein sollten, von außen erfolgen. Diese Gefährdung wird durch die geringere Aufmerksamkeit verschlimmert, die internen\n",
      "\n",
      "APP.4.4 Kubernetes  \n",
      "Seite 7 von 8 Kubernetes SOLLTE die aufgestellten Regeln im Cluster durch Anbindung geeigneter Werkzeuge \n",
      "durchsetzen.  \n",
      "APP.4.4.A14 Verwendung dedizierter Nodes (H) \n",
      "In einem Kubernetes -Cluster SOLLTEN die Nodes dedizierte Aufgaben zugewiesen bekommen und \n",
      "jeweils nur Pods betreiben, welche der jeweiligen Aufgabe zugeo rdnet sind.  \n",
      "Bastion Nodes SOLLTEN alle ein - und ausgehenden Datenverbindungen der Anwendungen zu \n",
      "anderen Netzen übernehmen.  \n",
      "Management Nodes SOLLTEN die Pods der Control Plane betreiben und sie SOLLTEN nur die \n",
      "Datenverbindungen der Control Plane übernehmen . \n",
      "Sofern eingesetzt, SOLLTEN Speicher -Nodes nur die Pods der Festspeicherdienste im Cluster betreiben.  \n",
      "APP.4.4.A15 Trennung von Anwendungen auf Node - und Cluster -Ebene (H)  \n",
      "Anwendungen mit einem sehr hohen Schutzbedarf SOLLTEN jeweils eigene Kubernetes -Clus ter oder \n",
      "dedizierte Nodes nutzen, die nicht für andere Anwendungen bereitstehen.\n",
      "\n",
      "können diese Zugangsdaten in unbefugte Hände gelangen. Mit diesen Zugangsdaten ist es bei \n",
      "Angriffen möglich, mit der Control Plane authentifiziert zu interagieren und, sofern die Berechtigungen ausreichen, auch Veränderungen an der Orchestrierung vorzunehmen.  \n",
      "2.3. Ressourcenkonflikte auf Nodes  \n",
      "Einzelne Pods können den Node oder auch die Orchestrierung überlasten und so die Verfügbarkeit aller anderen Pods auf dem Node oder auch den Betrieb des Nodes selbst gefährden.  \n",
      "2.4. Unautorisierte Änderungen an Clustern  \n",
      "Die Automatisierung mit CI/CD und die daraus folgende Notwendigkeit, den Werkzeugen privilegierte Zugangsberechtigungen zu erteilen, birgt das Risiko, dass nicht autorisierte Änderungen an Clustern erfolgen. So kann z.  B. eine neue Version einer Anwendung auf dem Cluster aufgebracht werden, die \n",
      "nicht ausreichend getestet ist oder die den Freigabeprozess nicht durchlaufen hat. Auch ist es bei\n",
      "\n",
      "dedizierte Nodes nutzen, die nicht für andere Anwendungen bereitstehen.  \n",
      "APP.4.4.A16 Verwendung von Operatoren (H)  \n",
      "Die Automatisierung von Betriebsaufgaben in Operatoren SOLLTE bei besonders kritischen Anwendungen und den Programmen der Control Pla ne zum Einsatz kommen.  \n",
      "APP.4.4.A17 Attestierung von Nodes (H)  \n",
      "Nodes SOLLTEN eine kryptografisch und möglichst mit einem TPM verifizierte gesicherte Zustandsmeldung an die Control Plane senden. Die Control Plane SOLLTE nur Nodes in den Cluster aufnehmen, di e erfolgreich ihre Unversehrtheit nachweisen konnten.  \n",
      "APP.4.4.A18 Verwendung von Mikro -Segmentierung (H)  \n",
      "Die Pods SOLLTEN auch innerhalb eines Kubernetes -Namespace nur über die notwendigen Netzports \n",
      "miteinander kommunizieren können. Es SOLLTEN Regeln inner halb des CNI existieren, die alle bis auf \n",
      "die für den Betrieb notwendigen Netzverbindungen innerhalb des Kubernetes -Namespace / Question: What does the document says about resource confilicts on the cluster nodes? how should I avoid them?\u001b[0m\n",
      "\n",
      "\u001b[1m> Finished chain.\u001b[0m\n",
      "\n",
      "\u001b[1m> Finished chain.\u001b[0m\n",
      "\n",
      "\u001b[1m> Finished chain.\u001b[0m\n"
     ]
    },
    {
     "data": {
      "text/plain": [
       "'Based on the provided context, the document mentions the following about resource conflicts on cluster nodes and how to avoid them:\\n\\nUnder section 2.3. \"Ressourcenkonflikte auf Nodes\" (Resource conflicts on nodes), it states:\\n\\n\"Einzelne Pods können den Node oder auch die Orchestrierung überlasten und so die Verfügbarkeit aller anderen Pods auf dem Node oder auch den Betrieb des Nodes selbst gefährden.\"\\n\\nTranslation: \"Individual pods can overload the node or even the orchestration, thus endangering the availability of all other pods on the node or even the operation of the node itself.\"\\n\\nThe document does not explicitly mention how to avoid these resource conflicts, but it provides some recommendations that could help mitigate the risk:\\n\\n1. Under APP.4.4.A14, it recommends using dedicated nodes for different purposes (bastion, management, storage) to isolate workloads.\\n\\n2. Under APP.4.4.A15, it recommends using separate Kubernetes clusters or dedicated nodes for applications with very high protection requirements, so they don\\'t share resources with other applications.\\n\\nSo while not directly stated, reasonable precautions to avoid resource conflicts would be to properly size and allocate resources for your pods, use resource limits/requests, and isolate workloads with high resource demands onto dedicated nodes or clusters.'"
      ]
     },
     "execution_count": 2,
     "metadata": {},
     "output_type": "execute_result"
    }
   ],
   "source": [
    "from langchain_community.chat_models import BedrockChat\n",
    "from langchain.chains import RetrievalQA\n",
    "from langchain_core.prompts import ChatPromptTemplate\n",
    "from langchain.callbacks import StdOutCallbackHandler\n",
    "\n",
    "# Load environment variables from a .env file\n",
    "load_dotenv()\n",
    "\n",
    "prompt = ChatPromptTemplate.from_template(\"The context, which I am going to provide you, is in German, the question is in English. If you don't know the answer, just say that you don't know, don't try to make up an answer. Answer questions based on the context below: {context} / Question: {question}\")\n",
    "\n",
    "\n",
    "# Initialize the language model\n",
    "llm = BedrockChat(\n",
    "    model_id='anthropic.claude-3-sonnet-20240229-v1:0',\n",
    "    region_name='us-east-1',\n",
    "    model_kwargs={'max_tokens': 1000}\n",
    ")\n",
    "\n",
    "# Set up the retrieval chain with the language model and database retriever\n",
    "chain = RetrievalQA.from_chain_type(\n",
    "    llm=llm,\n",
    "    chain_type_kwargs={\"prompt\": prompt},\n",
    "    retriever=db.as_retriever(),\n",
    "    verbose=True\n",
    ")\n",
    "\n",
    "\n",
    "# Initialize the output callback handler\n",
    "handler = StdOutCallbackHandler()\n",
    "\n",
    "# Run the retrieval chain with a query\n",
    "chain.run(\n",
    "            'What does the document says about resource confilicts on the cluster nodes? how should I avoid them?',\n",
    "            callbacks=[handler]\n",
    "        )\n",
    "\n"
   ]
  }
 ],
 "metadata": {
  "kernelspec": {
   "display_name": ".venv",
   "language": "python",
   "name": "python3"
  },
  "language_info": {
   "codemirror_mode": {
    "name": "ipython",
    "version": 3
   },
   "file_extension": ".py",
   "mimetype": "text/x-python",
   "name": "python",
   "nbconvert_exporter": "python",
   "pygments_lexer": "ipython3",
   "version": "3.9.6"
  },
  "orig_nbformat": 4
 },
 "nbformat": 4,
 "nbformat_minor": 2
}
